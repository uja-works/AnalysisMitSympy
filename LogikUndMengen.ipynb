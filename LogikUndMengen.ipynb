{
 "cells": [
  {
   "cell_type": "markdown",
   "id": "0eba51dd-f31e-4d08-82c6-280b76056336",
   "metadata": {},
   "source": [
    "# Logik und Mengen"
   ]
  },
  {
   "cell_type": "markdown",
   "id": "2cb798a4-d2b3-4bf5-8478-191de74ba2ab",
   "metadata": {},
   "source": [
    "Die Programmiersprache Python ist durch ihre zahlreichen Bibliotheken zu einer der wichtigsten Programmiersprachen für das wissenschaftliche Rechnen geworden. Diese Bibliotheken gehören teils zur sogenannten \"Standardbibliothek\", die von nahezu jeder Python-Distribution mitinstalliert wird. Aus mathematischer Sicht sind hier vor allem die Module `math` und `random` zu nennen, die uns z.B. mit wichtigen Funktionen wie Sinus- und Exponentialfunktionen bzw. Zufallszahlengeneratoren versorgen, die wir später nutzen werden. Neben der Standardbibliothek gibt es aber auch eine riesige Zahl von Bibliotheken, die von Dritten entwickelt werden und die Möglichkeiten von Python so weit ausbauen, dass diese Sprache in vielen Spezialgebieten außerordentlich erfolgreich eingesetzt werden kann. Im wissenschaftlichen Rechnen sind hier z.B. `numpy`, `scipy` und `sympy` zu nennen. Auch das Gebiet der künstlichen Intelligenz, wird zumindest im Bereich des maschinellen Lernens aktuell von Python dominiert. Hier spielen die Bibliotheken und Frameworks PyTorch und TensorFlow eine wichtige Rolle.\n",
    "\n",
    "Von Haus aus bringt Python aber bereits ohne jede Bibliothek einiges an mathematischen Fähigkeiten mit."
   ]
  },
  {
   "cell_type": "markdown",
   "id": "3b7199b3-fd5d-4ce0-b02f-2e212e617fc9",
   "metadata": {},
   "source": [
    "## Python als Taschenrechner\n",
    "Selbstverständlich beherrscht Python die vier Grundrechenarten:"
   ]
  },
  {
   "cell_type": "code",
   "execution_count": 74,
   "id": "951f65eb-7e78-46b8-87cc-632578813255",
   "metadata": {},
   "outputs": [
    {
     "data": {
      "text/plain": [
       "12.5"
      ]
     },
     "execution_count": 74,
     "metadata": {},
     "output_type": "execute_result"
    }
   ],
   "source": [
    "(2 + 3) * 5 / 2"
   ]
  },
  {
   "cell_type": "markdown",
   "id": "f9b3a0e9-e65a-4057-b35f-22706a76d97e",
   "metadata": {},
   "source": [
    "Potenzen werden in Python mit dem Symbol `**` dargestellt. $2^3$ schreibt man z.B. als `2**3`:"
   ]
  },
  {
   "cell_type": "code",
   "execution_count": 55,
   "id": "557c67a8-f188-4c29-85f7-ab10a469b0a1",
   "metadata": {},
   "outputs": [
    {
     "data": {
      "text/plain": [
       "8"
      ]
     },
     "execution_count": 55,
     "metadata": {},
     "output_type": "execute_result"
    }
   ],
   "source": [
    "2**3"
   ]
  },
  {
   "cell_type": "markdown",
   "id": "b48ad77b-2290-4b8d-9ec9-48d69821ed23",
   "metadata": {},
   "source": [
    "Die Wurzelfunktion ist zwar offiziell erst im `math`-Modul mit an Bord, aber aus der Schule ist Ihnen bekannt, dass Wurzeln auch als gebrochene Exponenten darstellbar sind:\n",
    "$$ \\sqrt x = x^{1/2}.$$\n",
    "Das funktioniert auch in Python:"
   ]
  },
  {
   "cell_type": "code",
   "execution_count": 56,
   "id": "663c5b26-0181-4eed-b6c0-014597e33078",
   "metadata": {},
   "outputs": [
    {
     "data": {
      "text/plain": [
       "1.4142135623730951"
      ]
     },
     "execution_count": 56,
     "metadata": {},
     "output_type": "execute_result"
    }
   ],
   "source": [
    "2**0.5 "
   ]
  },
  {
   "cell_type": "markdown",
   "id": "2acb8d29-12b0-46bb-9eb2-18360804e749",
   "metadata": {},
   "source": [
    "## Aussagenlogik\n",
    "Die logischen Werte \"wahr\" und \"falsch\" werden in Python mit `True` bzw. `False` bezeichnet. Gleichungen und Ungleichungen werden in Python als Aussagen gesehen und dann ausgewertet:"
   ]
  },
  {
   "cell_type": "code",
   "execution_count": 57,
   "id": "6b77efee-d8c8-403e-8176-1fc73f4b54ef",
   "metadata": {},
   "outputs": [
    {
     "data": {
      "text/plain": [
       "False"
      ]
     },
     "execution_count": 57,
     "metadata": {},
     "output_type": "execute_result"
    }
   ],
   "source": [
    "2 > 3"
   ]
  },
  {
   "cell_type": "code",
   "execution_count": 58,
   "id": "b14416b3-6589-4d84-8eb9-4a9bb60590d9",
   "metadata": {},
   "outputs": [
    {
     "data": {
      "text/plain": [
       "True"
      ]
     },
     "execution_count": 58,
     "metadata": {},
     "output_type": "execute_result"
    }
   ],
   "source": [
    "1 + 1 == 2"
   ]
  },
  {
   "cell_type": "markdown",
   "id": "18656037-3bf4-48e7-a15e-5609e8ef00f1",
   "metadata": {},
   "source": [
    "Beachten Sie hierbei das doppelte Gleichheitszeichen. Nur dies steht für eine Gleichheitsaussage. Das einfache Gleichheitszeichen steht für eine Zuweisung. So wird durch den Ausdruck `a = 2` der Variablen `a` der Wert 2 zu gewiesen. Im folgenden verwenden wir beide Formen:"
   ]
  },
  {
   "cell_type": "code",
   "execution_count": 59,
   "id": "fce86fb4-2daf-422e-bb89-2ff9f1166c2a",
   "metadata": {},
   "outputs": [
    {
     "data": {
      "text/plain": [
       "False"
      ]
     },
     "execution_count": 59,
     "metadata": {},
     "output_type": "execute_result"
    }
   ],
   "source": [
    "a = 2   # Die Variable a hat nun den Wert 2\n",
    "a == 3  # Dies sollte den Wert False zurückliefern, denn a ist 2 und nicht 3"
   ]
  },
  {
   "cell_type": "markdown",
   "id": "29d73837-6671-45b0-b5f4-0f9e22d5cb69",
   "metadata": {},
   "source": [
    "### Logische Verknüpfungen\n",
    "Die logische Konjunktion \"und\" wird in Python durch `and` dargestellt. Die logische Disjunktion \"oder\" schreibt man als `or`. Die Negation \"nicht\" ist `not`. Hier einige Beispiele:"
   ]
  },
  {
   "cell_type": "code",
   "execution_count": 60,
   "id": "ecc1c4e7-be7c-455f-a25c-09bcfd49cdd9",
   "metadata": {},
   "outputs": [
    {
     "data": {
      "text/plain": [
       "False"
      ]
     },
     "execution_count": 60,
     "metadata": {},
     "output_type": "execute_result"
    }
   ],
   "source": [
    "True and False"
   ]
  },
  {
   "cell_type": "code",
   "execution_count": 61,
   "id": "113e60d7-99ff-4bec-a453-02ee7308beb6",
   "metadata": {},
   "outputs": [
    {
     "data": {
      "text/plain": [
       "True"
      ]
     },
     "execution_count": 61,
     "metadata": {},
     "output_type": "execute_result"
    }
   ],
   "source": [
    "True or False"
   ]
  },
  {
   "cell_type": "code",
   "execution_count": 62,
   "id": "5fa30b9d-9d43-411b-a817-b8f5058d96e3",
   "metadata": {},
   "outputs": [
    {
     "data": {
      "text/plain": [
       "False"
      ]
     },
     "execution_count": 62,
     "metadata": {},
     "output_type": "execute_result"
    }
   ],
   "source": [
    "not True"
   ]
  },
  {
   "cell_type": "code",
   "execution_count": 63,
   "id": "e9640092-db5f-49fc-b26d-24c66201f0af",
   "metadata": {},
   "outputs": [
    {
     "data": {
      "text/plain": [
       "True"
      ]
     },
     "execution_count": 63,
     "metadata": {},
     "output_type": "execute_result"
    }
   ],
   "source": [
    "False or 3 > 2"
   ]
  },
  {
   "cell_type": "code",
   "execution_count": 64,
   "id": "9f13406b-d971-4d19-88b2-2b7406552af2",
   "metadata": {},
   "outputs": [
    {
     "data": {
      "text/plain": [
       "True"
      ]
     },
     "execution_count": 64,
     "metadata": {},
     "output_type": "execute_result"
    }
   ],
   "source": [
    "-1 < 0 and 2 < 3"
   ]
  },
  {
   "cell_type": "markdown",
   "id": "c7934e2f-5203-47b3-a80e-ab706d56a14e",
   "metadata": {},
   "source": [
    "## Listen und Mengen\n",
    "### Listen\n",
    "Eine der wichtigsten Datenstrukturen in Python ist die Liste. Diese kann eine Aufzählung beliebiger Objekte enthalten. Jedes Objekt kann dabei mehrfach vorkommen. Mit der Methode `append` kann man weitere Listenelemente anhängen."
   ]
  },
  {
   "cell_type": "code",
   "execution_count": 65,
   "id": "7c4af249-8499-430b-b740-758198880cfb",
   "metadata": {},
   "outputs": [
    {
     "data": {
      "text/plain": [
       "[1, 2, 1, 2, 3, 'a', 'b', 'b', 'c', 'Hund', 'Katze', True, False, True, True]"
      ]
     },
     "execution_count": 65,
     "metadata": {},
     "output_type": "execute_result"
    }
   ],
   "source": [
    "my_list = [1, 2, 1, 2, 3, \"a\", \"b\", \"b\", \"c\", \"Hund\", \"Katze\", True, False]\n",
    "my_list.append(True)\n",
    "my_list.append(True)\n",
    "my_list"
   ]
  },
  {
   "cell_type": "markdown",
   "id": "f38f9fef-23aa-447d-8076-c114641e4daf",
   "metadata": {},
   "source": [
    "Mit `my_list[0]` liest man das erste Listenelement aus, mit `my_list[1]` das zweite, etc. Negative Indizes werden vom Ende aus gelesen: `my_list[-1]` ist das letzte Element der Liste, `my_list[-2]` das vorletzte, etc."
   ]
  },
  {
   "cell_type": "code",
   "execution_count": 66,
   "id": "92f3215a-466c-4ec6-9cb4-328cd4a5f946",
   "metadata": {},
   "outputs": [
    {
     "data": {
      "text/plain": [
       "1"
      ]
     },
     "execution_count": 66,
     "metadata": {},
     "output_type": "execute_result"
    }
   ],
   "source": [
    "my_list[0]"
   ]
  },
  {
   "cell_type": "code",
   "execution_count": 67,
   "id": "412cb319-4f51-4934-b60a-4b6725b92782",
   "metadata": {},
   "outputs": [
    {
     "data": {
      "text/plain": [
       "False"
      ]
     },
     "execution_count": 67,
     "metadata": {},
     "output_type": "execute_result"
    }
   ],
   "source": [
    "my_list[-3]"
   ]
  },
  {
   "cell_type": "markdown",
   "id": "4fa44a82-482f-444d-9fbf-693898d2ee2b",
   "metadata": {},
   "source": [
    "### Mengen\n",
    "Das englische Wort für Menge ist \"set\". Mit Hilfe der Funktion `set` kann aus einer Liste eine Menge konstruiert werden, die jedes Listenelement genau einmal enthält. Alternativ kann man Mengen auch direkt durch Angabe ihrer Elemente in geschweiften Klammern definieren. Auch dabei werden Duplikate entfernt:"
   ]
  },
  {
   "cell_type": "code",
   "execution_count": 44,
   "id": "7c5ae208-2bda-4736-be52-686668f3bd4d",
   "metadata": {},
   "outputs": [
    {
     "data": {
      "text/plain": [
       "{1, 2, 3}"
      ]
     },
     "execution_count": 44,
     "metadata": {},
     "output_type": "execute_result"
    }
   ],
   "source": [
    "zahlen_bis_3 = {1, 2, 2, 3, 3, 3}\n",
    "zahlen_bis_3"
   ]
  },
  {
   "cell_type": "code",
   "execution_count": 45,
   "id": "e1e87be7-3bd3-4569-b194-c7bcee666df6",
   "metadata": {},
   "outputs": [
    {
     "data": {
      "text/plain": [
       "{1, 2, 3, False, 'Hund', 'Katze', 'a', 'b', 'c'}"
      ]
     },
     "execution_count": 45,
     "metadata": {},
     "output_type": "execute_result"
    }
   ],
   "source": [
    "my_set = set(my_list)\n",
    "my_set"
   ]
  },
  {
   "cell_type": "markdown",
   "id": "1228609d-bc1e-4f3c-8f14-3b6cee54dec6",
   "metadata": {},
   "source": [
    "An dieser Stelle werden Sie vielleicht fragen: \"Moment -- wo ist denn True geblieben?\"\n",
    "\n",
    "Die Lösung ist: Python sieht 1 als Synonym für `True` und 0 für `False` an. 1 hat also bereits den Wahrheitswert `True`, und da jedes Element nur einmal vorkommen darf, findet Python, das die Menge von links nach rechts aus der Liste auffüllt, dass `True` bereits in der Menge vorkommt.\n",
    "\n",
    "Generell gilt: Wenn `True` oder `False` in numerischen Ausdrücken vorkommen, werden sie von Python als 1 bzw. 0 interpretiert. "
   ]
  },
  {
   "cell_type": "code",
   "execution_count": 49,
   "id": "6a617224-1e8c-46ec-8a56-3cd94c9c4bd3",
   "metadata": {},
   "outputs": [
    {
     "data": {
      "text/plain": [
       "{True, 2, 3}"
      ]
     },
     "execution_count": 49,
     "metadata": {},
     "output_type": "execute_result"
    }
   ],
   "source": [
    "set([True, 1, 2,3])"
   ]
  },
  {
   "cell_type": "code",
   "execution_count": 50,
   "id": "1744a96b-4091-4def-8ea2-d5022040ac90",
   "metadata": {},
   "outputs": [
    {
     "data": {
      "text/plain": [
       "-1"
      ]
     },
     "execution_count": 50,
     "metadata": {},
     "output_type": "execute_result"
    }
   ],
   "source": [
    "2 * True + 3 * (False - 1)"
   ]
  },
  {
   "cell_type": "markdown",
   "id": "b3716e0a-0c31-4f09-a688-88e6c91aa472",
   "metadata": {},
   "source": [
    "Andere Programmiersprachen sind da strenger und erlauben `True` und `False` nicht in arithmetischen Ausdrücken. Gelegentlich (zum Beispiel zum Zählen von erfüllten Aussagen) kann diese Verwendung aber nützlich sein."
   ]
  },
  {
   "cell_type": "markdown",
   "id": "a66388d0-8184-4dbb-8bbb-e0ad4d3f3aa1",
   "metadata": {},
   "source": [
    "Beachten Sie die folgenden wichtigen Eigenschaften, die für Mengen, nicht aber für Listen gelten:\n",
    "\n",
    "1. Mengen sind nicht sortiert, die Reihenfolge der Elemente spielt keine Rolle.\n",
    "2. Jedes Element einer Menge wird nur einmal aufgeührt.\n",
    "\n",
    "Probieren wir es aus:"
   ]
  },
  {
   "cell_type": "code",
   "execution_count": 52,
   "id": "d07e1f67-da36-412a-8516-8701a7484bf5",
   "metadata": {},
   "outputs": [
    {
     "data": {
      "text/plain": [
       "True"
      ]
     },
     "execution_count": 52,
     "metadata": {},
     "output_type": "execute_result"
    }
   ],
   "source": [
    "{1, 2 ,3} == set([1,1,2,3])"
   ]
  },
  {
   "cell_type": "code",
   "execution_count": 73,
   "id": "223efd81-ff2c-4c31-a973-c9d61c9ca4f6",
   "metadata": {},
   "outputs": [
    {
     "data": {
      "text/plain": [
       "True"
      ]
     },
     "execution_count": 73,
     "metadata": {},
     "output_type": "execute_result"
    }
   ],
   "source": [
    "{1, 2, 3} == {3, 2, 1}"
   ]
  },
  {
   "cell_type": "code",
   "execution_count": null,
   "id": "5ce099fb-48d1-4a2c-afdb-cd5f1a0c8568",
   "metadata": {},
   "outputs": [],
   "source": []
  }
 ],
 "metadata": {
  "kernelspec": {
   "display_name": "Python 3 (ipykernel)",
   "language": "python",
   "name": "python3"
  },
  "language_info": {
   "codemirror_mode": {
    "name": "ipython",
    "version": 3
   },
   "file_extension": ".py",
   "mimetype": "text/x-python",
   "name": "python",
   "nbconvert_exporter": "python",
   "pygments_lexer": "ipython3",
   "version": "3.11.9"
  }
 },
 "nbformat": 4,
 "nbformat_minor": 5
}
